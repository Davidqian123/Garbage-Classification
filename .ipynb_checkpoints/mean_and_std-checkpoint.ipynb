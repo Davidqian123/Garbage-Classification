{
 "cells": [
  {
   "cell_type": "code",
   "execution_count": 5,
   "metadata": {},
   "outputs": [
    {
     "name": "stderr",
     "output_type": "stream",
     "text": [
      "\r",
      "  0%|                                                  | 0/1987 [00:00<?, ?it/s]"
     ]
    },
    {
     "name": "stdout",
     "output_type": "stream",
     "text": [
      "计算均值>>>\n"
     ]
    },
    {
     "name": "stderr",
     "output_type": "stream",
     "text": [
      "100%|███████████████████████████████████████| 1987/1987 [00:21<00:00, 92.59it/s]\n",
      "  0%|                                          | 4/1987 [00:00<01:01, 32.46it/s]"
     ]
    },
    {
     "name": "stdout",
     "output_type": "stream",
     "text": [
      "计算方差>>>\n"
     ]
    },
    {
     "name": "stderr",
     "output_type": "stream",
     "text": [
      "100%|███████████████████████████████████████| 1987/1987 [00:47<00:00, 41.61it/s]"
     ]
    },
    {
     "name": "stdout",
     "output_type": "stream",
     "text": [
      "训练集的平均值：(0.6723747258913939, 0.6503641085431747, 0.6271424242288156)，方差：(0.2110526986416388, 0.20936405294142477, 0.22736825182832943)\n"
     ]
    },
    {
     "name": "stderr",
     "output_type": "stream",
     "text": [
      "\n"
     ]
    }
   ],
   "source": [
    "import os\n",
    "import cv2\n",
    "import numpy as np\n",
    "from torch.utils.data import Dataset\n",
    "from PIL import Image\n",
    "import torchvision\n",
    "import time\n",
    "from time import time \n",
    "from tqdm import tqdm\n",
    "\n",
    "def compute_mean_and_std(dataset):\n",
    "    # 输入PyTorch的dataset，输出均值和标准差\n",
    "    mean_r = 0\n",
    "    mean_g = 0\n",
    "    mean_b = 0\n",
    "    print(\"计算均值>>>\")\n",
    "    for img_path, _ in tqdm(dataset,ncols=80):\n",
    "      img=Image.open(img_path)\n",
    "      img = np.asarray(img) # change PIL Image to numpy array\n",
    "      mean_b += np.mean(img[:, :, 0])\n",
    "      mean_g += np.mean(img[:, :, 1])\n",
    "      mean_r += np.mean(img[:, :, 2])\n",
    "\n",
    "    mean_b /= len(dataset)\n",
    "    mean_g /= len(dataset)\n",
    "    mean_r /= len(dataset)\n",
    "\n",
    "    diff_r = 0\n",
    "    diff_g = 0\n",
    "    diff_b = 0\n",
    "\n",
    "    N = 0\n",
    "    print(\"计算方差>>>\")\n",
    "    for img_path, _ in tqdm(dataset,ncols=80):\n",
    "      img=Image.open(img_path)\n",
    "      img = np.asarray(img)\n",
    "      diff_b += np.sum(np.power(img[:, :, 0] - mean_b, 2))\n",
    "      diff_g += np.sum(np.power(img[:, :, 1] - mean_g, 2))\n",
    "      diff_r += np.sum(np.power(img[:, :, 2] - mean_r, 2))\n",
    "\n",
    "      N += np.prod(img[:, :, 0].shape)\n",
    "\n",
    "    std_b = np.sqrt(diff_b / N)\n",
    "    std_g = np.sqrt(diff_g / N)\n",
    "    std_r = np.sqrt(diff_r / N)\n",
    "\n",
    "    mean = (mean_b.item() / 255.0, mean_g.item() / 255.0, mean_r.item() / 255.0)\n",
    "    std = (std_b.item() / 255.0, std_g.item() / 255.0, std_r.item() / 255.0)\n",
    "    return mean, std\n",
    "path = \"images\"\n",
    "# train_path=path+\"/train\"\n",
    "train_path=path\n",
    "# test_path=path+\"/test\"\n",
    "# val_path=path+'/val'\n",
    "train_data = torchvision.datasets.ImageFolder(train_path)\n",
    "# val_data = torchvision.datasets.ImageFolder(val_path)\n",
    "# test_data = torchvision.datasets.ImageFolder(test_path)\n",
    "train_mean,train_std=compute_mean_and_std(train_data.imgs)\n",
    "# time_start =time()\n",
    "# val_mean,val_std=compute_mean_and_std(val_data.imgs)\n",
    "# time_end=time()\n",
    "# print(\"验证集计算消耗时间：\", round(time_end - time_start, 4), \"s\")\n",
    "# #test_mean,test_std=compute_mean_and_std(test_data.imgs)\n",
    "print(\"训练集的平均值：{}，方差：{}\".format(train_mean,train_std))\n",
    "# print(\"验证集的平均值：{}\".format(val_mean))\n",
    "# print(\"验证集的方差：{}\".format(val_mean))\n",
    "# #print(\"测试集的平均值：{}，方差：{}\".format(test_mean,test_std))"
   ]
  },
  {
   "cell_type": "code",
   "execution_count": null,
   "metadata": {},
   "outputs": [],
   "source": []
  }
 ],
 "metadata": {
  "kernelspec": {
   "display_name": "pytorch",
   "language": "python",
   "name": "pytorch"
  },
  "language_info": {
   "codemirror_mode": {
    "name": "ipython",
    "version": 3
   },
   "file_extension": ".py",
   "mimetype": "text/x-python",
   "name": "python",
   "nbconvert_exporter": "python",
   "pygments_lexer": "ipython3",
   "version": "3.7.7"
  }
 },
 "nbformat": 4,
 "nbformat_minor": 4
}
